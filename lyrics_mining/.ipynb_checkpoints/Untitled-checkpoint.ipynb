{
 "cells": [
  {
   "cell_type": "code",
   "execution_count": 4,
   "metadata": {},
   "outputs": [],
   "source": [
    "import jieba\n",
    "import pandas as pd\n",
    "import jieba.analyse"
   ]
  },
  {
   "cell_type": "code",
   "execution_count": 4,
   "metadata": {},
   "outputs": [],
   "source": [
    "data = pd.read_csv('setn.csv')"
   ]
  },
  {
   "cell_type": "code",
   "execution_count": 14,
   "metadata": {},
   "outputs": [
    {
     "name": "stdout",
     "output_type": "stream",
     "text": [
      "總共 460 筆新聞\n"
     ]
    }
   ],
   "source": [
    "setn_text = data['text']\n",
    "setn_title = data['title']\n",
    "if len(setn_text) == len(setn_title): \n",
    "    print('總共',len(setn_title),'筆新聞')"
   ]
  },
  {
   "cell_type": "code",
   "execution_count": 38,
   "metadata": {},
   "outputs": [],
   "source": [
    "for idx in range(len(setn_title)):\n",
    "    if '　' in setn_title[idx]:\n",
    "        setn_title[idx] = setn_title[idx].replace('　','')"
   ]
  },
  {
   "cell_type": "code",
   "execution_count": 42,
   "metadata": {},
   "outputs": [],
   "source": [
    "seg_list = jieba.cut(setn_title[0], cut_all=False)"
   ]
  },
  {
   "cell_type": "code",
   "execution_count": 46,
   "metadata": {},
   "outputs": [],
   "source": [
    "seg_list = list(seg_list)"
   ]
  },
  {
   "cell_type": "code",
   "execution_count": 85,
   "metadata": {},
   "outputs": [],
   "source": [
    "seg_list = list(jieba.cut(\"我到台中科技大學讀書\", cut_all=False))"
   ]
  },
  {
   "cell_type": "code",
   "execution_count": 86,
   "metadata": {},
   "outputs": [
    {
     "data": {
      "text/plain": [
       "['我', '到', '台', '中', '科技', '大學', '讀書']"
      ]
     },
     "execution_count": 86,
     "metadata": {},
     "output_type": "execute_result"
    }
   ],
   "source": [
    "seg_list"
   ]
  },
  {
   "cell_type": "code",
   "execution_count": 72,
   "metadata": {},
   "outputs": [
    {
     "data": {
      "text/plain": [
       "['我', '在', '台', '中', '科技', '大學學習', 'NLP']"
      ]
     },
     "execution_count": 72,
     "metadata": {},
     "output_type": "execute_result"
    }
   ],
   "source": [
    "seg_list"
   ]
  },
  {
   "cell_type": "code",
   "execution_count": 82,
   "metadata": {},
   "outputs": [
    {
     "data": {
      "text/plain": [
       "['我', '到', '台', '中', '科技', '大學', '讀書']"
      ]
     },
     "execution_count": 82,
     "metadata": {},
     "output_type": "execute_result"
    }
   ],
   "source": [
    "list(seg_list)"
   ]
  },
  {
   "cell_type": "code",
   "execution_count": 94,
   "metadata": {},
   "outputs": [],
   "source": [
    "import jieba.analyse\n",
    "jieba.set_dictionary('dict.txt.big')"
   ]
  },
  {
   "cell_type": "code",
   "execution_count": 11,
   "metadata": {},
   "outputs": [
    {
     "name": "stdout",
     "output_type": "stream",
     "text": [
      "[('像顆', 2.988691875725), ('通透', 2.4922130048125), ('水晶', 1.9680997829375), ('眼睛', 1.283415007665)]\n",
      "_______________\n",
      "[('裡面', 2.988691875725), ('一個', 2.988691875725), ('無窮', 2.988691875725), ('宇宙', 1.8420858399375)]\n",
      "_______________\n",
      "[('小小的', 4.7797730343266664), ('夢裡', 3.9849225009666664)]\n",
      "_______________\n",
      "[('進風裡', 2.988691875725), ('大大的', 2.1518432068125), ('事情', 1.22628517676), ('所有', 1.200289278775)]\n",
      "_______________\n",
      "[]\n",
      "_______________\n",
      "[('我為', 3.9849225009666664), ('我將', 3.9849225009666664), ('道歉', 2.8559862862366665)]\n",
      "_______________\n",
      "[('當你', 1.9924612504833332), ('發現', 1.9924612504833332), ('那麼', 1.9924612504833332), ('黑白', 1.4271899287116667), ('分明', 1.1602372843216666)]\n",
      "_______________\n",
      "[('那麼', 2.988691875725), ('公平', 1.790335256155), ('世界', 1.0918823513925), ('不是', 0.947452535825)]\n",
      "_______________\n",
      "[('別太', 3.9849225009666664), ('我講', 3.9849225009666664), ('失望', 2.4273128894866667)]\n",
      "_______________\n",
      "[]\n",
      "_______________\n",
      "[('我們', 5.97738375145), ('不用', 3.004486496325)]\n",
      "_______________\n",
      "[('告訴', 3.9849225009666664), ('任何人', 2.4522552688033334), ('不要', 1.6309810600333332)]\n",
      "_______________\n",
      "[('怎樣', 5.97738375145), ('世界', 2.183764702785)]\n",
      "_______________\n",
      "[]\n",
      "_______________\n",
      "[('跟現', 3.9849225009666664), ('一樣', 3.9849225009666664), ('隨心', 3.9849225009666664)]\n",
      "_______________\n",
      "[('純淨', 3.9849225009666664), ('依然', 1.8433766802999998), ('眼睛', 1.71122001022)]\n",
      "_______________\n",
      "[]\n",
      "_______________\n",
      "[('你好', 1.9894695692125), ('不及', 1.764765543875), ('可惜', 1.6912475762375), ('世界', 1.0918823513925)]\n",
      "_______________\n",
      "[('我們', 5.97738375145), ('原諒', 2.988691875725), ('還在', 2.988691875725)]\n",
      "_______________\n",
      "[('時間', 3.9849225009666664), ('負責', 3.9849225009666664), ('流動', 3.9849225009666664)]\n",
      "_______________\n",
      "[('負責育', 5.97738375145), ('成長', 5.97738375145)]\n",
      "_______________\n",
      "[('不過', 3.9849225009666664), ('傾聽', 3.9849225009666664), ('需要', 1.4481602144999999)]\n",
      "_______________\n",
      "[('傾聽', 11.9547675029)]\n",
      "_______________\n",
      "[]\n",
      "_______________\n",
      "[('像顆', 2.988691875725), ('通透', 2.4922130048125), ('水晶', 1.9680997829375), ('眼睛', 1.283415007665)]\n",
      "_______________\n",
      "[('裡面', 2.988691875725), ('一個', 2.988691875725), ('無窮', 2.988691875725), ('宇宙', 1.8420858399375)]\n",
      "_______________\n",
      "[('小小的', 4.7797730343266664), ('夢裡', 3.9849225009666664)]\n",
      "_______________\n",
      "[('進風裡', 2.988691875725), ('大大的', 2.1518432068125), ('事情', 1.22628517676), ('所有', 1.200289278775)]\n",
      "_______________\n",
      "[('進風裡', 11.9547675029)]\n",
      "_______________\n",
      "[]\n",
      "_______________\n"
     ]
    }
   ],
   "source": [
    "with open(\"text.txt\", \"rb\") as f:\n",
    "    for line in f:\n",
    "        tags = jieba.analyse.extract_tags(line,\n",
    "                                          topK=5, \n",
    "                                          withWeight=True)"
   ]
  },
  {
   "cell_type": "code",
   "execution_count": 6,
   "metadata": {},
   "outputs": [
    {
     "data": {
      "text/plain": [
       "[]"
      ]
     },
     "execution_count": 6,
     "metadata": {},
     "output_type": "execute_result"
    }
   ],
   "source": []
  },
  {
   "cell_type": "code",
   "execution_count": null,
   "metadata": {},
   "outputs": [],
   "source": []
  }
 ],
 "metadata": {
  "kernelspec": {
   "display_name": "Python 3",
   "language": "python",
   "name": "python3"
  },
  "language_info": {
   "codemirror_mode": {
    "name": "ipython",
    "version": 3
   },
   "file_extension": ".py",
   "mimetype": "text/x-python",
   "name": "python",
   "nbconvert_exporter": "python",
   "pygments_lexer": "ipython3",
   "version": "3.7.2"
  }
 },
 "nbformat": 4,
 "nbformat_minor": 2
}
